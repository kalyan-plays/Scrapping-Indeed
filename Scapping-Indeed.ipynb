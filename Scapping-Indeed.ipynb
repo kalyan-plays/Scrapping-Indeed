{
 "cells": [
  {
   "cell_type": "code",
   "execution_count": 2,
   "id": "59b61105",
   "metadata": {},
   "outputs": [],
   "source": [
    "##IMPORT REQUIRED MODULES \n",
    "\n",
    "from bs4 import BeautifulSoup\n",
    "import requests, ssl\n",
    "import openpyxl\n",
    "import datetime\n",
    "import smtplib\n",
    "from email.mime.multipart import MIMEMultipart\n",
    "from email.mime.text import MIMEText\n",
    "from email.mime.application import MIMEApplication\n"
   ]
  },
  {
   "cell_type": "code",
   "execution_count": 3,
   "id": "1d5982aa",
   "metadata": {},
   "outputs": [],
   "source": [
    "##GENERATE AN EXCEL FILE TP SAVE OUR RESULTS\n",
    "\n",
    "today = str(datetime.date.today())\n",
    "excel = openpyxl.Workbook()\n",
    "sheet = excel.active \n",
    "sheet.title='jobs_on_'+ today"
   ]
  },
  {
   "cell_type": "code",
   "execution_count": 4,
   "id": "dc1fd877",
   "metadata": {},
   "outputs": [],
   "source": [
    "##FUNCTION getlatestjobs SCRAPS THE INDEED WEBSITE FOR LATEST JOBS, BASED ON JOBTITLE AND PLACE\n",
    "\n",
    "def getlatestjobs(job,place):\n",
    "\n",
    "            url =f'https://in.indeed.com/jobs?q={job}&l={place}&sort=date'   \n",
    "\n",
    "            r = requests.get(url)\n",
    "\n",
    "            soup = BeautifulSoup(r.content, 'html.parser')\n",
    "\n",
    "            try: \n",
    "                lists = soup.find('div', id='mosaic-provider-jobcards').find_all('div', class_='job_seen_beacon')\n",
    "            except:\n",
    "                return(print(\"no jobsfound\"))\n",
    "            \n",
    "            for a in lists: \n",
    "                if  not a.find('td', class_ ='resultContent').find('h2',class_='jobTitle').find('div',class_='new'):\n",
    "                    jobname = a.find('td', class_ ='resultContent').find('h2',class_='jobTitle').text\n",
    "                    \n",
    "                else: \n",
    "                    jobname = a.find('td', class_ ='resultContent').find('h2',class_='jobTitle').find_all('span')[1].text\n",
    "                companyname = a.find('span', class_= \"companyName\").text.replace(\",\",\"..\")\n",
    "                joblocation = a.find('div', class_=\"companyLocation\").get_text(strip=True)\n",
    "                dateposted =  a.find('span', class_=\"date\").text.replace(\"Posted\",\"\")\n",
    "                try:\n",
    "                    salary = a.find('div',class_= \"metadata\").get_text(strip=True)\n",
    "                except:\n",
    "                    salary = \"Not Specified\" \n",
    "                sheet.append([jobname,companyname,joblocation,dateposted,salary])\n",
    "                ####save the scrapped data to an excel file \n",
    "                excel.save(\"latestjobs.xlsx\")\n",
    "\n",
    "    \n",
    "\n"
   ]
  },
  {
   "cell_type": "code",
   "execution_count": 5,
   "id": "49450e04",
   "metadata": {},
   "outputs": [],
   "source": [
    "###Module to send the extracted results to gmail account\n",
    "\n",
    "def sendmail():\n",
    "   ####to get latest jobs to gmail place your gmail account password instead of xxxxxxx \n",
    "    email_from = 'kalyanpro198@gmail.com'\n",
    "    password = 'prasana16'\n",
    "    email_to = 'kalyanpro198@gmail.com'\n",
    "\n",
    "    def attach_file_to_email(email_message, filename):\n",
    "    \n",
    "        with open(filename, \"rb\") as f:\n",
    "            file_attachment = MIMEApplication(f.read())\n",
    "        # Attach the file to the message\n",
    "        email_message.attach(file_attachment)\n",
    "\n",
    "    ##set up the From, To, Subject fields\n",
    "    email_message = MIMEMultipart()\n",
    "    email_message['From'] = email_from\n",
    "    email_message['To'] = email_to\n",
    "    email_message['Subject'] = \"Latest data analyst jobs -\" + today\n",
    "\n",
    "    attach_file_to_email(email_message, 'latestjobs.xlsx')\n",
    "\n",
    "    email_string = email_message.as_string()\n",
    "\n",
    "    # Connect to the Gmail smtp server and Send Email\n",
    "    context = ssl.create_default_context()\n",
    "    with smtplib.SMTP_SSL(\"smtp.gmail.com\", 465, context=context) as server:\n",
    "        server.login(email_from, password)\n",
    "        server.sendmail(email_from, email_to, email_string)\n",
    "\n",
    "sendmail()"
   ]
  },
  {
   "cell_type": "code",
   "execution_count": null,
   "id": "a303976a",
   "metadata": {},
   "outputs": [],
   "source": [
    "import time\n",
    "####To get the latest Jobs thorugh mail every day, here job = \"data analyst\" & \"chennai\"\n",
    "while True:\n",
    "    getlatestjobs('data analyst','chennai')\n",
    "    sendmail()\n",
    "    time.sleep(60*60*24)"
   ]
  }
 ],
 "metadata": {
  "kernelspec": {
   "display_name": "Python 3 (ipykernel)",
   "language": "python",
   "name": "python3"
  },
  "language_info": {
   "codemirror_mode": {
    "name": "ipython",
    "version": 3
   },
   "file_extension": ".py",
   "mimetype": "text/x-python",
   "name": "python",
   "nbconvert_exporter": "python",
   "pygments_lexer": "ipython3",
   "version": "3.8.8"
  }
 },
 "nbformat": 4,
 "nbformat_minor": 5
}
